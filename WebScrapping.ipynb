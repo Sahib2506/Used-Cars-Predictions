{
 "cells": [
  {
   "cell_type": "code",
   "execution_count": 1,
   "metadata": {},
   "outputs": [
    {
     "name": "stdout",
     "output_type": "stream",
     "text": [
      "Requirement already satisfied: selenium in c:\\users\\owner\\anaconda3\\lib\\site-packages (3.141.0)\n",
      "Requirement already satisfied: urllib3 in c:\\users\\owner\\anaconda3\\lib\\site-packages (from selenium) (1.25.11)\n"
     ]
    }
   ],
   "source": [
    "!pip install selenium\n",
    "import pandas as pd\n",
    "import numpy as np\n",
    "from selenium import webdriver\n",
    "import time\n",
    "from selenium.common.exceptions import NoSuchElementException"
   ]
  },
  {
   "cell_type": "code",
   "execution_count": 88,
   "metadata": {},
   "outputs": [],
   "source": [
    "driver = webdriver.Chrome(r\"C:\\Users\\OWNER\\Downloads\\chromedriver.exe\")"
   ]
  },
  {
   "cell_type": "code",
   "execution_count": 89,
   "metadata": {},
   "outputs": [],
   "source": [
    "driver.get('https://cardekho.com')"
   ]
  },
  {
   "cell_type": "code",
   "execution_count": 70,
   "metadata": {},
   "outputs": [],
   "source": [
    "driver.find_element_by_xpath(\"/html/body/div[2]/div/header/div[2]/div/div/nav/ul/li[2]/span/span\").click()"
   ]
  },
  {
   "cell_type": "code",
   "execution_count": 75,
   "metadata": {},
   "outputs": [],
   "source": [
    "url = []\n",
    "\n",
    "condition=0\n",
    "while condition<50:\n",
    "    driver.execute_script(\"window.scrollTo(0, document.body.scrollHeight);\")\n",
    "    time.sleep(2)\n",
    "    \n",
    "    e = driver.find_elements_by_xpath(\"//div[@class='gsc_col-xs-7 carsName']/a\")\n",
    "    for i in e:\n",
    "        url.append(i.get_attribute(\"href\"))\n",
    "    \n",
    "    condition = condition + 1"
   ]
  },
  {
   "cell_type": "code",
   "execution_count": 76,
   "metadata": {},
   "outputs": [
    {
     "data": {
      "text/plain": [
       "5900"
      ]
     },
     "execution_count": 76,
     "metadata": {},
     "output_type": "execute_result"
    }
   ],
   "source": [
    "len(url)"
   ]
  },
  {
   "cell_type": "code",
   "execution_count": 84,
   "metadata": {},
   "outputs": [
    {
     "ename": "TimeoutException",
     "evalue": "Message: timeout: Timed out receiving message from renderer: -2627.836\n  (Session info: chrome=93.0.4577.82)\n",
     "output_type": "error",
     "traceback": [
      "\u001b[1;31m---------------------------------------------------------------------------\u001b[0m",
      "\u001b[1;31mTimeoutException\u001b[0m                          Traceback (most recent call last)",
      "\u001b[1;32m<ipython-input-84-b470f0687a2d>\u001b[0m in \u001b[0;36m<module>\u001b[1;34m\u001b[0m\n\u001b[0;32m      1\u001b[0m \u001b[1;32mfor\u001b[0m \u001b[0mi\u001b[0m \u001b[1;32min\u001b[0m \u001b[0murl\u001b[0m\u001b[1;33m:\u001b[0m\u001b[1;33m\u001b[0m\u001b[1;33m\u001b[0m\u001b[0m\n\u001b[1;32m----> 2\u001b[1;33m     \u001b[0mdriver\u001b[0m\u001b[1;33m.\u001b[0m\u001b[0mget\u001b[0m\u001b[1;33m(\u001b[0m\u001b[0mi\u001b[0m\u001b[1;33m[\u001b[0m\u001b[1;33m:\u001b[0m\u001b[1;36m5500\u001b[0m\u001b[1;33m]\u001b[0m\u001b[1;33m)\u001b[0m\u001b[1;33m\u001b[0m\u001b[1;33m\u001b[0m\u001b[0m\n\u001b[0m\u001b[0;32m      3\u001b[0m     \u001b[0mtime\u001b[0m\u001b[1;33m.\u001b[0m\u001b[0msleep\u001b[0m\u001b[1;33m(\u001b[0m\u001b[1;36m1\u001b[0m\u001b[1;33m)\u001b[0m\u001b[1;33m\u001b[0m\u001b[1;33m\u001b[0m\u001b[0m\n\u001b[0;32m      4\u001b[0m \u001b[1;33m\u001b[0m\u001b[0m\n\u001b[0;32m      5\u001b[0m     \u001b[1;31m#BRand\u001b[0m\u001b[1;33m\u001b[0m\u001b[1;33m\u001b[0m\u001b[1;33m\u001b[0m\u001b[0m\n",
      "\u001b[1;32m~\\anaconda3\\lib\\site-packages\\selenium\\webdriver\\remote\\webdriver.py\u001b[0m in \u001b[0;36mget\u001b[1;34m(self, url)\u001b[0m\n\u001b[0;32m    331\u001b[0m         \u001b[0mLoads\u001b[0m \u001b[0ma\u001b[0m \u001b[0mweb\u001b[0m \u001b[0mpage\u001b[0m \u001b[1;32min\u001b[0m \u001b[0mthe\u001b[0m \u001b[0mcurrent\u001b[0m \u001b[0mbrowser\u001b[0m \u001b[0msession\u001b[0m\u001b[1;33m.\u001b[0m\u001b[1;33m\u001b[0m\u001b[1;33m\u001b[0m\u001b[0m\n\u001b[0;32m    332\u001b[0m         \"\"\"\n\u001b[1;32m--> 333\u001b[1;33m         \u001b[0mself\u001b[0m\u001b[1;33m.\u001b[0m\u001b[0mexecute\u001b[0m\u001b[1;33m(\u001b[0m\u001b[0mCommand\u001b[0m\u001b[1;33m.\u001b[0m\u001b[0mGET\u001b[0m\u001b[1;33m,\u001b[0m \u001b[1;33m{\u001b[0m\u001b[1;34m'url'\u001b[0m\u001b[1;33m:\u001b[0m \u001b[0murl\u001b[0m\u001b[1;33m}\u001b[0m\u001b[1;33m)\u001b[0m\u001b[1;33m\u001b[0m\u001b[1;33m\u001b[0m\u001b[0m\n\u001b[0m\u001b[0;32m    334\u001b[0m \u001b[1;33m\u001b[0m\u001b[0m\n\u001b[0;32m    335\u001b[0m     \u001b[1;33m@\u001b[0m\u001b[0mproperty\u001b[0m\u001b[1;33m\u001b[0m\u001b[1;33m\u001b[0m\u001b[0m\n",
      "\u001b[1;32m~\\anaconda3\\lib\\site-packages\\selenium\\webdriver\\remote\\webdriver.py\u001b[0m in \u001b[0;36mexecute\u001b[1;34m(self, driver_command, params)\u001b[0m\n\u001b[0;32m    319\u001b[0m         \u001b[0mresponse\u001b[0m \u001b[1;33m=\u001b[0m \u001b[0mself\u001b[0m\u001b[1;33m.\u001b[0m\u001b[0mcommand_executor\u001b[0m\u001b[1;33m.\u001b[0m\u001b[0mexecute\u001b[0m\u001b[1;33m(\u001b[0m\u001b[0mdriver_command\u001b[0m\u001b[1;33m,\u001b[0m \u001b[0mparams\u001b[0m\u001b[1;33m)\u001b[0m\u001b[1;33m\u001b[0m\u001b[1;33m\u001b[0m\u001b[0m\n\u001b[0;32m    320\u001b[0m         \u001b[1;32mif\u001b[0m \u001b[0mresponse\u001b[0m\u001b[1;33m:\u001b[0m\u001b[1;33m\u001b[0m\u001b[1;33m\u001b[0m\u001b[0m\n\u001b[1;32m--> 321\u001b[1;33m             \u001b[0mself\u001b[0m\u001b[1;33m.\u001b[0m\u001b[0merror_handler\u001b[0m\u001b[1;33m.\u001b[0m\u001b[0mcheck_response\u001b[0m\u001b[1;33m(\u001b[0m\u001b[0mresponse\u001b[0m\u001b[1;33m)\u001b[0m\u001b[1;33m\u001b[0m\u001b[1;33m\u001b[0m\u001b[0m\n\u001b[0m\u001b[0;32m    322\u001b[0m             response['value'] = self._unwrap_value(\n\u001b[0;32m    323\u001b[0m                 response.get('value', None))\n",
      "\u001b[1;32m~\\anaconda3\\lib\\site-packages\\selenium\\webdriver\\remote\\errorhandler.py\u001b[0m in \u001b[0;36mcheck_response\u001b[1;34m(self, response)\u001b[0m\n\u001b[0;32m    240\u001b[0m                 \u001b[0malert_text\u001b[0m \u001b[1;33m=\u001b[0m \u001b[0mvalue\u001b[0m\u001b[1;33m[\u001b[0m\u001b[1;34m'alert'\u001b[0m\u001b[1;33m]\u001b[0m\u001b[1;33m.\u001b[0m\u001b[0mget\u001b[0m\u001b[1;33m(\u001b[0m\u001b[1;34m'text'\u001b[0m\u001b[1;33m)\u001b[0m\u001b[1;33m\u001b[0m\u001b[1;33m\u001b[0m\u001b[0m\n\u001b[0;32m    241\u001b[0m             \u001b[1;32mraise\u001b[0m \u001b[0mexception_class\u001b[0m\u001b[1;33m(\u001b[0m\u001b[0mmessage\u001b[0m\u001b[1;33m,\u001b[0m \u001b[0mscreen\u001b[0m\u001b[1;33m,\u001b[0m \u001b[0mstacktrace\u001b[0m\u001b[1;33m,\u001b[0m \u001b[0malert_text\u001b[0m\u001b[1;33m)\u001b[0m\u001b[1;33m\u001b[0m\u001b[1;33m\u001b[0m\u001b[0m\n\u001b[1;32m--> 242\u001b[1;33m         \u001b[1;32mraise\u001b[0m \u001b[0mexception_class\u001b[0m\u001b[1;33m(\u001b[0m\u001b[0mmessage\u001b[0m\u001b[1;33m,\u001b[0m \u001b[0mscreen\u001b[0m\u001b[1;33m,\u001b[0m \u001b[0mstacktrace\u001b[0m\u001b[1;33m)\u001b[0m\u001b[1;33m\u001b[0m\u001b[1;33m\u001b[0m\u001b[0m\n\u001b[0m\u001b[0;32m    243\u001b[0m \u001b[1;33m\u001b[0m\u001b[0m\n\u001b[0;32m    244\u001b[0m     \u001b[1;32mdef\u001b[0m \u001b[0m_value_or_default\u001b[0m\u001b[1;33m(\u001b[0m\u001b[0mself\u001b[0m\u001b[1;33m,\u001b[0m \u001b[0mobj\u001b[0m\u001b[1;33m,\u001b[0m \u001b[0mkey\u001b[0m\u001b[1;33m,\u001b[0m \u001b[0mdefault\u001b[0m\u001b[1;33m)\u001b[0m\u001b[1;33m:\u001b[0m\u001b[1;33m\u001b[0m\u001b[1;33m\u001b[0m\u001b[0m\n",
      "\u001b[1;31mTimeoutException\u001b[0m: Message: timeout: Timed out receiving message from renderer: -2627.836\n  (Session info: chrome=93.0.4577.82)\n"
     ]
    }
   ],
   "source": [
    "for i in url:\n",
    "    driver.get(i[:5500])\n",
    "    time.sleep(1)\n",
    "    \n",
    "    #BRand\n",
    "    try:\n",
    "        bn = driver.find_elements_by_xpath(\"//div[@class='gsc_col-xs-12']/h1\")\n",
    "        \n",
    "        for i in bn:\n",
    "            Brand_Name.append(i.text)   \n",
    "    except NoSuchElementException:\n",
    "        Brand_Name.append(np.nan) \n",
    "\n",
    "    #Varient\n",
    "    try:\n",
    "        Vn = driver.find_elements_by_xpath(\"//div[@class='variant-name']\")\n",
    "        for i in Vn:\n",
    "            Variant.append(i.text) \n",
    "    except NoSuchElementException:\n",
    "        Variant.append(np.nan)\n",
    "        \n",
    "    #Price\n",
    "    try:\n",
    "        p = driver.find_elements_by_xpath(\"//div[@class='priceSection']/span\")[1:]\n",
    "        for i in p:\n",
    "            Price.append(i.text)\n",
    "    except NoSuchElementException:\n",
    "        Price.append(np.nan)\n",
    "        \n",
    "    #Man Year\n",
    "    try:\n",
    "        my = driver.find_elements_by_xpath(\"//div[@class='fontweight500 value']\")[:1]\n",
    "        \n",
    "        for i in my:\n",
    "            Manufacturing_Year.append(i.text)\n",
    "    except NoSuchElementException:\n",
    "        Manufacturing_Year.append(np.nan)\n",
    "        \n",
    "    #Fuel\n",
    "    try:\n",
    "        ft = driver.find_elements_by_xpath(\"//div[@class='fontweight500 value']\")[2:3]\n",
    "        for i in ft:\n",
    "            Fuel_type.append(i.text)\n",
    "    except NoSuchElementException:\n",
    "        Fuel_type.append(np.nan)\n",
    "        \n",
    "    #Kms_run\n",
    "    try:\n",
    "        kr = driver.find_elements_by_xpath(\"//div[@class='fontweight500 value']\")[3:4]\n",
    "        for i in kr:\n",
    "            Kms_run.append(i.text)\n",
    "    except NoSuchElementException:\n",
    "        Kms_run.append(np.nan)\n",
    "        \n",
    "    #Engine\n",
    "    try:\n",
    "        eng = driver.find_elements_by_xpath(\"//div[@class='fontweight500 value']\")[4:5]\n",
    "        for i in eng:\n",
    "            Engine.append(i.text)\n",
    "    except NoSuchElementException:\n",
    "        Engine.append(np.nan)\n",
    "    \n",
    "    #No_Of_Owner(s)\n",
    "    try:\n",
    "        own = driver.find_elements_by_xpath(\"//div[@class='fontweight500 value']\")[5:6]\n",
    "        for i in own:\n",
    "            Owner.append(i.text)\n",
    "    except NoSuchElementException:\n",
    "        Owner.append(np.nan)\n",
    "    \n",
    "    #Transmission\n",
    "    try:\n",
    "        tran = driver.find_elements_by_xpath(\"//div[@class='fontweight500 value']\")[7:8]\n",
    "        for i in tran:\n",
    "            Transmission.append(i.text)\n",
    "    except NoSuchElementException:\n",
    "        Transmission.append(np.nan)\n",
    "        \n",
    "    #Mileage\n",
    "    try:\n",
    "        mil = driver.find_elements_by_xpath(\"//div[@class='fontweight500 value']\")[9:10]\n",
    "        for i in mil:\n",
    "            Mileage.append(i.text)\n",
    "    except NoSuchElementException:\n",
    "        Mileage.append(np.nan)"
   ]
  },
  {
   "cell_type": "code",
   "execution_count": 9,
   "metadata": {},
   "outputs": [
    {
     "data": {
      "text/html": [
       "<div>\n",
       "<style scoped>\n",
       "    .dataframe tbody tr th:only-of-type {\n",
       "        vertical-align: middle;\n",
       "    }\n",
       "\n",
       "    .dataframe tbody tr th {\n",
       "        vertical-align: top;\n",
       "    }\n",
       "\n",
       "    .dataframe thead th {\n",
       "        text-align: right;\n",
       "    }\n",
       "</style>\n",
       "<table border=\"1\" class=\"dataframe\">\n",
       "  <thead>\n",
       "    <tr style=\"text-align: right;\">\n",
       "      <th></th>\n",
       "      <th>0</th>\n",
       "    </tr>\n",
       "  </thead>\n",
       "  <tbody>\n",
       "    <tr>\n",
       "      <th>0</th>\n",
       "      <td>https://www.cardekho.com/used-car-details/used...</td>\n",
       "    </tr>\n",
       "    <tr>\n",
       "      <th>1</th>\n",
       "      <td>https://www.cardekho.com/used-car-details/used...</td>\n",
       "    </tr>\n",
       "    <tr>\n",
       "      <th>2</th>\n",
       "      <td>https://www.cardekho.com/used-car-details/used...</td>\n",
       "    </tr>\n",
       "    <tr>\n",
       "      <th>3</th>\n",
       "      <td>https://www.cardekho.com/used-car-details/used...</td>\n",
       "    </tr>\n",
       "    <tr>\n",
       "      <th>4</th>\n",
       "      <td>https://www.cardekho.com/used-car-details/used...</td>\n",
       "    </tr>\n",
       "    <tr>\n",
       "      <th>...</th>\n",
       "      <td>...</td>\n",
       "    </tr>\n",
       "    <tr>\n",
       "      <th>795</th>\n",
       "      <td>https://www.cardekho.com/used-car-details/used...</td>\n",
       "    </tr>\n",
       "    <tr>\n",
       "      <th>796</th>\n",
       "      <td>https://www.cardekho.com/used-car-details/used...</td>\n",
       "    </tr>\n",
       "    <tr>\n",
       "      <th>797</th>\n",
       "      <td>https://www.cardekho.com/used-car-details/used...</td>\n",
       "    </tr>\n",
       "    <tr>\n",
       "      <th>798</th>\n",
       "      <td>https://www.cardekho.com/used-car-details/used...</td>\n",
       "    </tr>\n",
       "    <tr>\n",
       "      <th>799</th>\n",
       "      <td>https://www.cardekho.com/used-car-details/used...</td>\n",
       "    </tr>\n",
       "  </tbody>\n",
       "</table>\n",
       "<p>800 rows × 1 columns</p>\n",
       "</div>"
      ],
      "text/plain": [
       "                                                     0\n",
       "0    https://www.cardekho.com/used-car-details/used...\n",
       "1    https://www.cardekho.com/used-car-details/used...\n",
       "2    https://www.cardekho.com/used-car-details/used...\n",
       "3    https://www.cardekho.com/used-car-details/used...\n",
       "4    https://www.cardekho.com/used-car-details/used...\n",
       "..                                                 ...\n",
       "795  https://www.cardekho.com/used-car-details/used...\n",
       "796  https://www.cardekho.com/used-car-details/used...\n",
       "797  https://www.cardekho.com/used-car-details/used...\n",
       "798  https://www.cardekho.com/used-car-details/used...\n",
       "799  https://www.cardekho.com/used-car-details/used...\n",
       "\n",
       "[800 rows x 1 columns]"
      ]
     },
     "execution_count": 9,
     "metadata": {},
     "output_type": "execute_result"
    }
   ],
   "source": [
    "get"
   ]
  },
  {
   "cell_type": "code",
   "execution_count": 65,
   "metadata": {},
   "outputs": [],
   "source": [
    "driver = webdriver.Chrome(r\"C:\\Users\\OWNER\\Downloads\\chromedriver.exe\")"
   ]
  },
  {
   "cell_type": "code",
   "execution_count": 67,
   "metadata": {},
   "outputs": [
    {
     "data": {
      "text/plain": [
       "['20.36 kmpl']"
      ]
     },
     "execution_count": 67,
     "metadata": {},
     "output_type": "execute_result"
    }
   ],
   "source": [
    "Test = []\n",
    "\n",
    "driver.get(get[0][3])\n",
    "\n",
    "Brand = driver.find_elements_by_xpath(\"//div[@class='largeSpec']\")[:1]\n",
    "\n",
    "for i in Brand:\n",
    "    Test.append(i.text)\n",
    "Test"
   ]
  },
  {
   "cell_type": "code",
   "execution_count": 61,
   "metadata": {},
   "outputs": [],
   "source": [
    "Brand_Name = []\n",
    "Variant = []\n",
    "Price = []\n",
    "Manufacturing_Year = []\n",
    "Fuel_type= []\n",
    "Kms_run = []\n",
    "Engine = []\n",
    "Owner = []\n",
    "Transmission = []\n",
    "Mileage = []\n",
    "\n",
    "\n",
    "for i in get[0]:\n",
    "    driver.get(i)\n",
    "    time.sleep(1)\n",
    "    \n",
    "    #BRand\n",
    "    try:\n",
    "        bn = driver.find_elements_by_xpath(\"//div[@class='vdp-head']/h1\")[1:]\n",
    "        \n",
    "        for i in bn:\n",
    "            Brand_Name.append(i.text)   \n",
    "    except NoSuchElementException:\n",
    "        Brand_Name.append(np.nan) \n",
    "\n",
    "    #Varient\n",
    "    try:\n",
    "        Vn = driver.find_elements_by_xpath(\"//div[@class='vdp-head']/h1\")[1:]\n",
    "        for i in Vn:\n",
    "            Variant.append(i.text[19:]) \n",
    "    except NoSuchElementException:\n",
    "        Variant.append(np.nan)\n",
    "        \n",
    "    #Price\n",
    "    try:\n",
    "        p = driver.find_elements_by_xpath(\"//span[@class='amount']\")\n",
    "        for i in p:\n",
    "            Price.append(i.text)\n",
    "    except NoSuchElementException:\n",
    "        Price.append(np.nan)\n",
    "        \n",
    "    #Man Year\n",
    "    try:\n",
    "        my = driver.find_elements_by_xpath(\"//div[@class='iconDetail']\")[:1]\n",
    "        \n",
    "        for i in my:\n",
    "            Manufacturing_Year.append(i.text)\n",
    "    except NoSuchElementException:\n",
    "        Manufacturing_Year.append(np.nan)\n",
    "        \n",
    "    #Fuel\n",
    "    try:\n",
    "        ft = driver.find_elements_by_xpath(\"//div[@class='iconDetail']\")[4:5]\n",
    "        for i in ft:\n",
    "            Fuel_type.append(i.text)\n",
    "    except NoSuchElementException:\n",
    "        Fuel_type.append(np.nan)\n",
    "        \n",
    "    #Kms_run\n",
    "    try:\n",
    "        kr = driver.find_elements_by_xpath(\"//div[@class='iconDetail']\")[2:3]\n",
    "        for i in kr:\n",
    "            Kms_run.append(i.text)\n",
    "    except NoSuchElementException:\n",
    "        Kms_run.append(np.nan)\n",
    "        \n",
    "    #Engine\n",
    "    try:\n",
    "        eng = driver.find_elements_by_xpath(\"//div[@class='largeSpec']\")[1:2]\n",
    "        for i in eng:\n",
    "            Engine.append(i.text)\n",
    "    except NoSuchElementException:\n",
    "        Engine.append(np.nan)\n",
    "    \n",
    "    #No_Of_Owner(s)\n",
    "    try:\n",
    "        own = driver.find_elements_by_xpath(\"//div[@class='iconDetail']\")[3:4]\n",
    "        for i in own:\n",
    "            Owner.append(i.text)\n",
    "    except NoSuchElementException:\n",
    "        Owner.append(np.nan)\n",
    "    \n",
    "    #Transmission\n",
    "    try:\n",
    "        tran = driver.find_elements_by_xpath(\"//div[@class='iconDetail']\")[5:6]\n",
    "        for i in tran:\n",
    "            Transmission.append(i.text)\n",
    "    except NoSuchElementException:\n",
    "        Transmission.append(np.nan)"
   ]
  },
  {
   "cell_type": "code",
   "execution_count": 68,
   "metadata": {},
   "outputs": [],
   "source": [
    "Mileage = []\n",
    "\n",
    "\n",
    "for i in get[0]:\n",
    "    driver.get(i)\n",
    "    time.sleep(1)\n",
    "            \n",
    "    ##Mileage\n",
    "    try:\n",
    "        mil = driver.find_elements_by_xpath(\"//div[@class='largeSpec']\")[:1]\n",
    "        for i in mil:\n",
    "            Mileage.append(i.text)\n",
    "\n",
    "    except NoSuchElementException:\n",
    "        Mileage.append(np.nan)"
   ]
  },
  {
   "cell_type": "code",
   "execution_count": 100,
   "metadata": {},
   "outputs": [
    {
     "data": {
      "text/plain": [
       "6258"
      ]
     },
     "execution_count": 100,
     "metadata": {},
     "output_type": "execute_result"
    }
   ],
   "source": [
    "len(Mileage)"
   ]
  },
  {
   "cell_type": "code",
   "execution_count": 90,
   "metadata": {},
   "outputs": [],
   "source": [
    "driver.find_element_by_xpath(\"/html/body/div[2]/div/header/div[2]/div/div/nav/ul/li[2]/span/span\").click()"
   ]
  },
  {
   "cell_type": "code",
   "execution_count": 96,
   "metadata": {},
   "outputs": [],
   "source": [
    "URL = []\n",
    "\n",
    "condition=0\n",
    "while condition<50:\n",
    "    driver.execute_script(\"window.scrollTo(0, document.body.scrollHeight);\")\n",
    "    time.sleep(2)\n",
    "    \n",
    "    e = driver.find_elements_by_xpath(\"//div[@class='gsc_col-xs-7 carsName']/a\")\n",
    "    for i in e:\n",
    "        URL.append(i.get_attribute(\"href\"))\n",
    "    \n",
    "    condition = condition + 1"
   ]
  },
  {
   "cell_type": "code",
   "execution_count": 97,
   "metadata": {},
   "outputs": [
    {
     "data": {
      "text/plain": [
       "5000"
      ]
     },
     "execution_count": 97,
     "metadata": {},
     "output_type": "execute_result"
    }
   ],
   "source": [
    "len(URL)"
   ]
  },
  {
   "cell_type": "code",
   "execution_count": 98,
   "metadata": {},
   "outputs": [],
   "source": [
    "Test = []\n",
    "\n",
    "driver.get(URL[1])\n",
    "\n",
    "Brand = driver.find_elements_by_xpath(\"//div[@class='largeSpec']\")[:1]\n",
    "\n",
    "for i in Brand:\n",
    "    Test.append(i.text)\n",
    "Test"
   ]
  },
  {
   "cell_type": "code",
   "execution_count": 99,
   "metadata": {},
   "outputs": [
    {
     "ename": "TimeoutException",
     "evalue": "Message: timeout: Timed out receiving message from renderer: 297.092\n  (Session info: chrome=93.0.4577.82)\n",
     "output_type": "error",
     "traceback": [
      "\u001b[1;31m---------------------------------------------------------------------------\u001b[0m",
      "\u001b[1;31mTimeoutException\u001b[0m                          Traceback (most recent call last)",
      "\u001b[1;32m<ipython-input-99-88d4046dcd47>\u001b[0m in \u001b[0;36m<module>\u001b[1;34m\u001b[0m\n\u001b[0;32m      1\u001b[0m \u001b[1;32mfor\u001b[0m \u001b[0mi\u001b[0m \u001b[1;32min\u001b[0m \u001b[0mURL\u001b[0m\u001b[1;33m:\u001b[0m\u001b[1;33m\u001b[0m\u001b[1;33m\u001b[0m\u001b[0m\n\u001b[1;32m----> 2\u001b[1;33m     \u001b[0mdriver\u001b[0m\u001b[1;33m.\u001b[0m\u001b[0mget\u001b[0m\u001b[1;33m(\u001b[0m\u001b[0mi\u001b[0m\u001b[1;33m[\u001b[0m\u001b[1;33m:\u001b[0m\u001b[1;36m1500\u001b[0m\u001b[1;33m]\u001b[0m\u001b[1;33m)\u001b[0m\u001b[1;33m\u001b[0m\u001b[1;33m\u001b[0m\u001b[0m\n\u001b[0m\u001b[0;32m      3\u001b[0m     \u001b[0mtime\u001b[0m\u001b[1;33m.\u001b[0m\u001b[0msleep\u001b[0m\u001b[1;33m(\u001b[0m\u001b[1;36m1\u001b[0m\u001b[1;33m)\u001b[0m\u001b[1;33m\u001b[0m\u001b[1;33m\u001b[0m\u001b[0m\n\u001b[0;32m      4\u001b[0m \u001b[1;33m\u001b[0m\u001b[0m\n\u001b[0;32m      5\u001b[0m     \u001b[1;31m#BRand\u001b[0m\u001b[1;33m\u001b[0m\u001b[1;33m\u001b[0m\u001b[1;33m\u001b[0m\u001b[0m\n",
      "\u001b[1;32m~\\anaconda3\\lib\\site-packages\\selenium\\webdriver\\remote\\webdriver.py\u001b[0m in \u001b[0;36mget\u001b[1;34m(self, url)\u001b[0m\n\u001b[0;32m    331\u001b[0m         \u001b[0mLoads\u001b[0m \u001b[0ma\u001b[0m \u001b[0mweb\u001b[0m \u001b[0mpage\u001b[0m \u001b[1;32min\u001b[0m \u001b[0mthe\u001b[0m \u001b[0mcurrent\u001b[0m \u001b[0mbrowser\u001b[0m \u001b[0msession\u001b[0m\u001b[1;33m.\u001b[0m\u001b[1;33m\u001b[0m\u001b[1;33m\u001b[0m\u001b[0m\n\u001b[0;32m    332\u001b[0m         \"\"\"\n\u001b[1;32m--> 333\u001b[1;33m         \u001b[0mself\u001b[0m\u001b[1;33m.\u001b[0m\u001b[0mexecute\u001b[0m\u001b[1;33m(\u001b[0m\u001b[0mCommand\u001b[0m\u001b[1;33m.\u001b[0m\u001b[0mGET\u001b[0m\u001b[1;33m,\u001b[0m \u001b[1;33m{\u001b[0m\u001b[1;34m'url'\u001b[0m\u001b[1;33m:\u001b[0m \u001b[0murl\u001b[0m\u001b[1;33m}\u001b[0m\u001b[1;33m)\u001b[0m\u001b[1;33m\u001b[0m\u001b[1;33m\u001b[0m\u001b[0m\n\u001b[0m\u001b[0;32m    334\u001b[0m \u001b[1;33m\u001b[0m\u001b[0m\n\u001b[0;32m    335\u001b[0m     \u001b[1;33m@\u001b[0m\u001b[0mproperty\u001b[0m\u001b[1;33m\u001b[0m\u001b[1;33m\u001b[0m\u001b[0m\n",
      "\u001b[1;32m~\\anaconda3\\lib\\site-packages\\selenium\\webdriver\\remote\\webdriver.py\u001b[0m in \u001b[0;36mexecute\u001b[1;34m(self, driver_command, params)\u001b[0m\n\u001b[0;32m    319\u001b[0m         \u001b[0mresponse\u001b[0m \u001b[1;33m=\u001b[0m \u001b[0mself\u001b[0m\u001b[1;33m.\u001b[0m\u001b[0mcommand_executor\u001b[0m\u001b[1;33m.\u001b[0m\u001b[0mexecute\u001b[0m\u001b[1;33m(\u001b[0m\u001b[0mdriver_command\u001b[0m\u001b[1;33m,\u001b[0m \u001b[0mparams\u001b[0m\u001b[1;33m)\u001b[0m\u001b[1;33m\u001b[0m\u001b[1;33m\u001b[0m\u001b[0m\n\u001b[0;32m    320\u001b[0m         \u001b[1;32mif\u001b[0m \u001b[0mresponse\u001b[0m\u001b[1;33m:\u001b[0m\u001b[1;33m\u001b[0m\u001b[1;33m\u001b[0m\u001b[0m\n\u001b[1;32m--> 321\u001b[1;33m             \u001b[0mself\u001b[0m\u001b[1;33m.\u001b[0m\u001b[0merror_handler\u001b[0m\u001b[1;33m.\u001b[0m\u001b[0mcheck_response\u001b[0m\u001b[1;33m(\u001b[0m\u001b[0mresponse\u001b[0m\u001b[1;33m)\u001b[0m\u001b[1;33m\u001b[0m\u001b[1;33m\u001b[0m\u001b[0m\n\u001b[0m\u001b[0;32m    322\u001b[0m             response['value'] = self._unwrap_value(\n\u001b[0;32m    323\u001b[0m                 response.get('value', None))\n",
      "\u001b[1;32m~\\anaconda3\\lib\\site-packages\\selenium\\webdriver\\remote\\errorhandler.py\u001b[0m in \u001b[0;36mcheck_response\u001b[1;34m(self, response)\u001b[0m\n\u001b[0;32m    240\u001b[0m                 \u001b[0malert_text\u001b[0m \u001b[1;33m=\u001b[0m \u001b[0mvalue\u001b[0m\u001b[1;33m[\u001b[0m\u001b[1;34m'alert'\u001b[0m\u001b[1;33m]\u001b[0m\u001b[1;33m.\u001b[0m\u001b[0mget\u001b[0m\u001b[1;33m(\u001b[0m\u001b[1;34m'text'\u001b[0m\u001b[1;33m)\u001b[0m\u001b[1;33m\u001b[0m\u001b[1;33m\u001b[0m\u001b[0m\n\u001b[0;32m    241\u001b[0m             \u001b[1;32mraise\u001b[0m \u001b[0mexception_class\u001b[0m\u001b[1;33m(\u001b[0m\u001b[0mmessage\u001b[0m\u001b[1;33m,\u001b[0m \u001b[0mscreen\u001b[0m\u001b[1;33m,\u001b[0m \u001b[0mstacktrace\u001b[0m\u001b[1;33m,\u001b[0m \u001b[0malert_text\u001b[0m\u001b[1;33m)\u001b[0m\u001b[1;33m\u001b[0m\u001b[1;33m\u001b[0m\u001b[0m\n\u001b[1;32m--> 242\u001b[1;33m         \u001b[1;32mraise\u001b[0m \u001b[0mexception_class\u001b[0m\u001b[1;33m(\u001b[0m\u001b[0mmessage\u001b[0m\u001b[1;33m,\u001b[0m \u001b[0mscreen\u001b[0m\u001b[1;33m,\u001b[0m \u001b[0mstacktrace\u001b[0m\u001b[1;33m)\u001b[0m\u001b[1;33m\u001b[0m\u001b[1;33m\u001b[0m\u001b[0m\n\u001b[0m\u001b[0;32m    243\u001b[0m \u001b[1;33m\u001b[0m\u001b[0m\n\u001b[0;32m    244\u001b[0m     \u001b[1;32mdef\u001b[0m \u001b[0m_value_or_default\u001b[0m\u001b[1;33m(\u001b[0m\u001b[0mself\u001b[0m\u001b[1;33m,\u001b[0m \u001b[0mobj\u001b[0m\u001b[1;33m,\u001b[0m \u001b[0mkey\u001b[0m\u001b[1;33m,\u001b[0m \u001b[0mdefault\u001b[0m\u001b[1;33m)\u001b[0m\u001b[1;33m:\u001b[0m\u001b[1;33m\u001b[0m\u001b[1;33m\u001b[0m\u001b[0m\n",
      "\u001b[1;31mTimeoutException\u001b[0m: Message: timeout: Timed out receiving message from renderer: 297.092\n  (Session info: chrome=93.0.4577.82)\n"
     ]
    }
   ],
   "source": [
    "for i in URL:\n",
    "    driver.get(i[:1500])\n",
    "    time.sleep(1)\n",
    "    \n",
    "    #BRand\n",
    "    try:\n",
    "        bn = driver.find_elements_by_xpath(\"//div[@class='gsc_col-xs-12']/h1\")\n",
    "        \n",
    "        for i in bn:\n",
    "            Brand_Name.append(i.text)   \n",
    "    except NoSuchElementException:\n",
    "        Brand_Name.append(np.nan) \n",
    "\n",
    "    #Varient\n",
    "    try:\n",
    "        Vn = driver.find_elements_by_xpath(\"//div[@class='variant-name']\")\n",
    "        for i in Vn:\n",
    "            Variant.append(i.text) \n",
    "    except NoSuchElementException:\n",
    "        Variant.append(np.nan)\n",
    "        \n",
    "    #Price\n",
    "    try:\n",
    "        p = driver.find_elements_by_xpath(\"//div[@class='priceSection']/span\")[1:]\n",
    "        for i in p:\n",
    "            Price.append(i.text)\n",
    "    except NoSuchElementException:\n",
    "        Price.append(np.nan)\n",
    "        \n",
    "    #Man Year\n",
    "    try:\n",
    "        my = driver.find_elements_by_xpath(\"//div[@class='fontweight500 value']\")[:1]\n",
    "        \n",
    "        for i in my:\n",
    "            Manufacturing_Year.append(i.text)\n",
    "    except NoSuchElementException:\n",
    "        Manufacturing_Year.append(np.nan)\n",
    "        \n",
    "    #Fuel\n",
    "    try:\n",
    "        ft = driver.find_elements_by_xpath(\"//div[@class='fontweight500 value']\")[2:3]\n",
    "        for i in ft:\n",
    "            Fuel_type.append(i.text)\n",
    "    except NoSuchElementException:\n",
    "        Fuel_type.append(np.nan)\n",
    "        \n",
    "    #Kms_run\n",
    "    try:\n",
    "        kr = driver.find_elements_by_xpath(\"//div[@class='fontweight500 value']\")[3:4]\n",
    "        for i in kr:\n",
    "            Kms_run.append(i.text)\n",
    "    except NoSuchElementException:\n",
    "        Kms_run.append(np.nan)\n",
    "        \n",
    "    #Engine\n",
    "    try:\n",
    "        eng = driver.find_elements_by_xpath(\"//div[@class='fontweight500 value']\")[4:5]\n",
    "        for i in eng:\n",
    "            Engine.append(i.text)\n",
    "    except NoSuchElementException:\n",
    "        Engine.append(np.nan)\n",
    "    \n",
    "    #No_Of_Owner(s)\n",
    "    try:\n",
    "        own = driver.find_elements_by_xpath(\"//div[@class='fontweight500 value']\")[5:6]\n",
    "        for i in own:\n",
    "            Owner.append(i.text)\n",
    "    except NoSuchElementException:\n",
    "        Owner.append(np.nan)\n",
    "    \n",
    "    #Transmission\n",
    "    try:\n",
    "        tran = driver.find_elements_by_xpath(\"//div[@class='fontweight500 value']\")[7:8]\n",
    "        for i in tran:\n",
    "            Transmission.append(i.text)\n",
    "    except NoSuchElementException:\n",
    "        Transmission.append(np.nan)\n",
    "        \n",
    "    #Mileage\n",
    "    try:\n",
    "        mil = driver.find_elements_by_xpath(\"//div[@class='fontweight500 value']\")[9:10]\n",
    "        for i in mil:\n",
    "            Mileage.append(i.text)\n",
    "    except NoSuchElementException:\n",
    "        Mileage.append(np.nan)"
   ]
  },
  {
   "cell_type": "code",
   "execution_count": 101,
   "metadata": {},
   "outputs": [],
   "source": [
    "driver.close()"
   ]
  },
  {
   "cell_type": "code",
   "execution_count": 112,
   "metadata": {},
   "outputs": [],
   "source": [
    "Brand_Name = Brand_Name[:6000]\n",
    "Variant = Variant[:6000]\n",
    "Price = Price[:6000]\n",
    "Manufacturing_Year = Manufacturing_Year[:6000]\n",
    "Fuel_type= Fuel_type[:6000]\n",
    "Kms_run = Kms_run[:6000]\n",
    "Engine = Engine[:6000]\n",
    "Owner = Owner[:6000]\n",
    "Transmission = Transmission[:6000]\n",
    "Mileage = Mileage[:6000]"
   ]
  },
  {
   "cell_type": "code",
   "execution_count": 114,
   "metadata": {},
   "outputs": [],
   "source": [
    "data = list(zip(Brand_Name,Variant,Price,Manufacturing_Year,Fuel_type,Kms_run,Engine,Owner,Transmission,Mileage))\n",
    "\n",
    "cars = pd.DataFrame(data=data,columns=['Brand_Name','Variant','Price','Manufacturing_Year','Fuel_type','Kms_run','Engine','Owner','Transmission','Mileage'])\n",
    "\n",
    "cars.to_csv('used_cars.csv')"
   ]
  },
  {
   "cell_type": "code",
   "execution_count": 113,
   "metadata": {},
   "outputs": [
    {
     "data": {
      "text/plain": [
       "6000"
      ]
     },
     "execution_count": 113,
     "metadata": {},
     "output_type": "execute_result"
    }
   ],
   "source": [
    "len(Mileage)"
   ]
  },
  {
   "cell_type": "code",
   "execution_count": null,
   "metadata": {},
   "outputs": [],
   "source": []
  }
 ],
 "metadata": {
  "kernelspec": {
   "display_name": "Python 3",
   "language": "python",
   "name": "python3"
  },
  "language_info": {
   "codemirror_mode": {
    "name": "ipython",
    "version": 3
   },
   "file_extension": ".py",
   "mimetype": "text/x-python",
   "name": "python",
   "nbconvert_exporter": "python",
   "pygments_lexer": "ipython3",
   "version": "3.8.5"
  }
 },
 "nbformat": 4,
 "nbformat_minor": 4
}
